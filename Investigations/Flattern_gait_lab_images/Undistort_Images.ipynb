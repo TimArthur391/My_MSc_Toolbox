{
 "cells": [
  {
   "cell_type": "code",
   "execution_count": 21,
   "id": "096e3c92-3652-4a52-896d-a83cd4b38188",
   "metadata": {},
   "outputs": [
    {
     "name": "stdout",
     "output_type": "stream",
     "text": [
      " Camera matrix:\n",
      "[[1.57212061e+03 0.00000000e+00 6.50718376e+02]\n",
      " [0.00000000e+00 1.56728861e+03 3.82149599e+02]\n",
      " [0.00000000e+00 0.00000000e+00 1.00000000e+00]]\n",
      "\n",
      " Distortion coefficient:\n",
      "[[-0.35596872  0.45351657 -0.01160594 -0.00270191 -1.30458024]]\n"
     ]
    }
   ],
   "source": [
    "# Import required modules\n",
    "import cv2\n",
    "import numpy as np\n",
    "import os\n",
    "import glob\n",
    "\n",
    "\n",
    "# Define the dimensions of checkerboard\n",
    "CHECKERBOARD = (6, 6)\n",
    "\n",
    "\n",
    "# stop the iteration when specified\n",
    "# accuracy, epsilon, is reached or\n",
    "# specified number of iterations are completed.\n",
    "criteria = (cv2.TERM_CRITERIA_EPS + cv2.TERM_CRITERIA_MAX_ITER, 30, 0.001)\n",
    "\n",
    "# Vector for 3D points\n",
    "threedpoints = []\n",
    "\n",
    "# Vector for 2D points\n",
    "twodpoints = []\n",
    "\n",
    "\n",
    "# 3D points real world coordinates\n",
    "objectp3d = np.zeros((1, CHECKERBOARD[0] * CHECKERBOARD[1], 3), np.float32)\n",
    "objectp3d[0, :, :2] = np.mgrid[0:CHECKERBOARD[0], 0:CHECKERBOARD[1]].T.reshape(-1, 2)\n",
    "prev_img_shape = None\n",
    "\n",
    "# Extracting path of individual image stored\n",
    "# in a given directory. Since no path is\n",
    "# specified, it will take current directory\n",
    "# jpg files alone\n",
    "images = glob.glob('Calibration_images/Sag/*.jpg')\n",
    "\n",
    "for filename in images:\n",
    "    image = cv2.imread(filename)\n",
    "    grayColor = cv2.cvtColor(image, cv2.COLOR_BGR2GRAY)\n",
    "\n",
    "    # Find the chess board corners\n",
    "    # If desired number of corners are\n",
    "    # found in the image then ret = true\n",
    "    ret, corners = cv2.findChessboardCorners(grayColor, CHECKERBOARD, cv2.CALIB_CB_ADAPTIVE_THRESH + cv2.CALIB_CB_FAST_CHECK + cv2.CALIB_CB_NORMALIZE_IMAGE)\n",
    "\n",
    "    # If desired number of corners can be detected then,\n",
    "    # refine the pixel coordinates and display\n",
    "    # them on the images of checker board\n",
    "    if ret == True:\n",
    "        threedpoints.append(objectp3d)\n",
    "\n",
    "        # Refining pixel coordinates\n",
    "        # for given 2d points.\n",
    "        corners2 = cv2.cornerSubPix(\n",
    "            grayColor, corners, (11, 11), (-1, -1), criteria)\n",
    "\n",
    "        twodpoints.append(corners2)\n",
    "\n",
    "        # Draw and display the corners\n",
    "        image = cv2.drawChessboardCorners(image, CHECKERBOARD, corners2, ret)\n",
    "\n",
    "    cv2.imshow('img', image)\n",
    "    cv2.waitKey(0)\n",
    "\n",
    "cv2.destroyAllWindows()\n",
    "\n",
    "h, w = image.shape[:2]\n",
    "\n",
    "\n",
    "# Perform camera calibration by\n",
    "# passing the value of above found out 3D points (threedpoints)\n",
    "# and its corresponding pixel coordinates of the\n",
    "# detected corners (twodpoints)\n",
    "ret, matrix, distortion, r_vecs, t_vecs = cv2.calibrateCamera(threedpoints, twodpoints, grayColor.shape[::-1], None, None)\n",
    "\n",
    "newcameramtx, roi = cv2.getOptimalNewCameraMatrix(matrix, distortion, (w,h), 1, (w,h))\n",
    "\n",
    "# Displaying required output\n",
    "print(\" Camera matrix:\")\n",
    "print(matrix)\n",
    "\n",
    "print(\"\\n Distortion coefficient:\")\n",
    "print(distortion)\n",
    "\n",
    "#print(\"\\n Rotation Vectors:\")\n",
    "#print(r_vecs)\n",
    "\n",
    "#print(\"\\n Translation Vectors:\")\n",
    "#print(t_vecs)\n"
   ]
  },
  {
   "cell_type": "code",
   "execution_count": 20,
   "id": "52de072a-26fc-4be6-8d5e-ef1536dec109",
   "metadata": {},
   "outputs": [],
   "source": [
    "images = glob.glob('Images_to_undistort/*/Cor/*.jpg')\n",
    "for filename in images:\n",
    "    img = cv2.imread(filename)\n",
    "    h,  w = img.shape[:2]\n",
    "\n",
    "    # undistort\n",
    "    mapx, mapy = cv2.initUndistortRectifyMap(matrix, distortion, None, newcameramtx, (w,h), 5)\n",
    "    dst = cv2.remap(img, mapx, mapy, cv2.INTER_LINEAR)\n",
    "    # crop the image\n",
    "    #x, y, w, h = roi\n",
    "    #dst = dst[y:y+h, x:x+w]\n",
    "    output_filename = filename[:-4] + '_undistorted.jpg'\n",
    "    cv2.imwrite(output_filename, dst)"
   ]
  },
  {
   "cell_type": "markdown",
   "id": "dc882e85-0f04-48bc-8db7-e612ee96633e",
   "metadata": {},
   "source": [
    "### Below were tests to figure out how to get the code running"
   ]
  },
  {
   "cell_type": "code",
   "execution_count": 7,
   "id": "f3fdcd11-bda0-45e5-ae83-08be0332b4b2",
   "metadata": {},
   "outputs": [
    {
     "data": {
      "text/plain": [
       "True"
      ]
     },
     "execution_count": 7,
     "metadata": {},
     "output_type": "execute_result"
    }
   ],
   "source": [
    "img = cv2.imread('Standing Left Side.jpg')\n",
    "h,  w = img.shape[:2]\n",
    "\n",
    "# undistort\n",
    "dst = cv2.undistort(img, matrix, distortion, None, newcameramtx)\n",
    "# crop the image\n",
    "#x, y, w, h = roi\n",
    "#dst = dst[y:y+h, x:x+w]\n",
    "cv2.imwrite('calibresult1.png', dst)"
   ]
  },
  {
   "cell_type": "code",
   "execution_count": 8,
   "id": "a12d8102-15ad-4196-98da-33ee0173426f",
   "metadata": {},
   "outputs": [
    {
     "data": {
      "text/plain": [
       "True"
      ]
     },
     "execution_count": 8,
     "metadata": {},
     "output_type": "execute_result"
    }
   ],
   "source": []
  },
  {
   "cell_type": "code",
   "execution_count": 6,
   "id": "b09bdced-cdce-43d8-b698-5b62305191c4",
   "metadata": {},
   "outputs": [
    {
     "data": {
      "text/plain": [
       "['Images_to_undistort\\\\Allen, Steven RL1103260\\\\Cor\\\\Standing Cor Away.jpg',\n",
       " 'Images_to_undistort\\\\Allen, Steven RL1103260\\\\Cor\\\\Standing Cor Twrd (2).jpg',\n",
       " 'Images_to_undistort\\\\Allen, Steven RL1103260\\\\Cor\\\\Standing Cor Twrd.jpg',\n",
       " 'Images_to_undistort\\\\Barton, Mark RL1181385\\\\Cor\\\\Stanging Cor Away.jpg',\n",
       " 'Images_to_undistort\\\\Barton, Mark RL1181385\\\\Cor\\\\Stanging Cor Twrd (2).jpg',\n",
       " 'Images_to_undistort\\\\Barton, Mark RL1181385\\\\Cor\\\\Stanging Cor Twrd (3).jpg',\n",
       " 'Images_to_undistort\\\\Barton, Mark RL1181385\\\\Cor\\\\Stanging Cor Twrd.jpg',\n",
       " 'Images_to_undistort\\\\Barton, Mark RL1181385\\\\Cor\\\\Stanging Left Side (3).jpg',\n",
       " 'Images_to_undistort\\\\Barton, Mark RL1181385\\\\Cor\\\\Stanging Right Side.jpg',\n",
       " 'Images_to_undistort\\\\Bell, William RL1250832\\\\Cor\\\\3iq0102.2107274.20211102144547-0.00.01.02.jpg',\n",
       " 'Images_to_undistort\\\\Bell, William RL1250832\\\\Cor\\\\3iq0114.2107274.20211102145556-0.00.00.96.jpg',\n",
       " 'Images_to_undistort\\\\Bell, William RL1250832\\\\Cor\\\\3iq0114.2107274.20211102145556-0.00.16.00.jpg',\n",
       " 'Images_to_undistort\\\\Bell, William RL1250832\\\\Cor\\\\3iq0114.2107274.20211102145556-0.00.25.80.jpg',\n",
       " 'Images_to_undistort\\\\Bell, William RL1250832\\\\Cor\\\\Standing Cor Twrd.jpg',\n",
       " 'Images_to_undistort\\\\Brooker, John RL1095440\\\\Cor\\\\3q80102.2107274.20221208112624-0.00.00.16.jpg',\n",
       " 'Images_to_undistort\\\\Bryan, Ruby 05x11327\\\\Cor\\\\33x0201.2107274.20191126143158-0.00.04.40.jpg',\n",
       " 'Images_to_undistort\\\\Bryan, Ruby 05x11327\\\\Cor\\\\33x0215.2107274.20191127093440-0.00.02.56.jpg',\n",
       " 'Images_to_undistort\\\\Bryan, Ruby 05x11327\\\\Cor\\\\33x0215.2107274.20191127093440-0.00.06.90.jpg',\n",
       " 'Images_to_undistort\\\\Bryan, Ruby 05x11327\\\\Cor\\\\33x0215.2107274.20191127093440-0.00.19.18.jpg',\n",
       " 'Images_to_undistort\\\\Conway-Williams, Steven RL1130179\\\\Cor\\\\29h0101.61838975.20141017154755-0.00.00.46.jpg',\n",
       " 'Images_to_undistort\\\\Conway-Williams, Steven RL1130179\\\\Cor\\\\29h0104.61838975.20141017160154-0.00.00.10.jpg',\n",
       " 'Images_to_undistort\\\\Conway-Williams, Steven RL1130179\\\\Cor\\\\29h0105.61838975.20141017160158-0.00.02.44.jpg',\n",
       " 'Images_to_undistort\\\\Conway-Williams, Steven RL1130179\\\\Cor\\\\29h0116.61838975.20141017161246-0.00.00.86.jpg',\n",
       " 'Images_to_undistort\\\\Conway-Williams, Steven RL1130179\\\\Cor\\\\29h0117.61838975.20141017163354-0.00.01.52.jpg',\n",
       " 'Images_to_undistort\\\\Conway-Williams, Steven RL1130179\\\\Cor\\\\29h0133.61838975.20141017163456-0.00.01.60.jpg',\n",
       " 'Images_to_undistort\\\\Leszczynski, Bartosz RL1239576\\\\Cor\\\\3g40105.2107274.20210429104957-0.00.01.26.jpg',\n",
       " 'Images_to_undistort\\\\Leszczynski, Bartosz RL1239576\\\\Cor\\\\3g40105.2107274.20210429104957-0.00.06.96.jpg',\n",
       " 'Images_to_undistort\\\\Leszczynski, Bartosz RL1239576\\\\Cor\\\\3g40105.2107274.20210429104957-0.00.11.60.jpg',\n",
       " 'Images_to_undistort\\\\Leszczynski, Bartosz RL1239576\\\\Cor\\\\3g40125.2107274.20210429115901-0.00.01.48.jpg',\n",
       " 'Images_to_undistort\\\\McQuigg, Angela 01X03869\\\\Cor\\\\2870107.61838975.20140808133923-0.00.03.94.jpg',\n",
       " 'Images_to_undistort\\\\McQuigg, Angela 01X03869\\\\Cor\\\\2870107.61838975.20140808133923-0.00.09.12.jpg',\n",
       " 'Images_to_undistort\\\\McQuigg, Angela 01X03869\\\\Cor\\\\2870107.61838975.20140808133923-0.00.14.38.jpg',\n",
       " 'Images_to_undistort\\\\Roberts, Bethan 99x12589\\\\Cor\\\\3oj0102.2107274.20220915102219-0.00.00.56.jpg',\n",
       " 'Images_to_undistort\\\\Roberts, Bethan 99x12589\\\\Cor\\\\3oj0115.2107274.20220915103227-0.00.02.16.jpg',\n",
       " 'Images_to_undistort\\\\Roberts, Bethan 99x12589\\\\Cor\\\\3oj0115.2107274.20220915103227-0.00.07.06.jpg',\n",
       " 'Images_to_undistort\\\\Roberts, Bethan 99x12589\\\\Cor\\\\3oj0115.2107274.20220915103227-0.00.13.12.jpg',\n",
       " 'Images_to_undistort\\\\Roberts, Bethan 99x12589\\\\Cor\\\\3oj0115.2107274.20220915103227-0.00.20.66.jpg',\n",
       " 'Images_to_undistort\\\\Roberts, Glenys RL1049528\\\\Cor\\\\2880106.61838975.20140808155823-0.00.00.94.jpg',\n",
       " 'Images_to_undistort\\\\Roberts, Glenys RL1049528\\\\Cor\\\\2880106.61838975.20140808155823-0.00.06.40.jpg',\n",
       " 'Images_to_undistort\\\\Roberts, Glenys RL1049528\\\\Cor\\\\2880106.61838975.20140808155823-0.00.11.02.jpg',\n",
       " 'Images_to_undistort\\\\Roberts, Glenys RL1049528\\\\Cor\\\\2880109.61838975.20140808160843-0.00.02.42.jpg',\n",
       " 'Images_to_undistort\\\\Roberts, Glenys RL1049528\\\\Cor\\\\2880109.61838975.20140808160843-0.00.10.34.jpg',\n",
       " 'Images_to_undistort\\\\Roberts, Glenys RL1049528\\\\Cor\\\\2880109.61838975.20140808160843-0.00.17.80.jpg',\n",
       " 'Images_to_undistort\\\\Roberts, Glenys RL1049528\\\\Cor\\\\2880113.61838975.20140808162804-0.00.01.18.jpg',\n",
       " 'Images_to_undistort\\\\Roberts, Glenys RL1049528\\\\Cor\\\\2880113.61838975.20140808162804-0.00.07.08.jpg',\n",
       " 'Images_to_undistort\\\\Roberts, Glenys RL1049528\\\\Cor\\\\2880113.61838975.20140808162804-0.00.19.72.jpg',\n",
       " 'Images_to_undistort\\\\Thomas, Albie-Junior RL1227356\\\\Cor\\\\3bn0116.2107274.20200211150909-0.00.01.06.jpg',\n",
       " 'Images_to_undistort\\\\Thomas, Albie-Junior RL1227356\\\\Cor\\\\3bn0129.2107274.20200211152318-0.00.01.72.jpg',\n",
       " 'Images_to_undistort\\\\Thomas, Albie-Junior RL1227356\\\\Cor\\\\3bn0130.2107274.20200211152322-0.00.01.14.jpg']"
      ]
     },
     "execution_count": 6,
     "metadata": {},
     "output_type": "execute_result"
    }
   ],
   "source": [
    "import glob\n",
    "glob.glob('Images_to_undistort/*/Cor/*.jpg')"
   ]
  },
  {
   "cell_type": "code",
   "execution_count": null,
   "id": "16aa973d-f7d4-40bb-9fc8-a6540b8fcd38",
   "metadata": {},
   "outputs": [],
   "source": []
  }
 ],
 "metadata": {
  "kernelspec": {
   "display_name": "Python 3 (ipykernel)",
   "language": "python",
   "name": "python3"
  },
  "language_info": {
   "codemirror_mode": {
    "name": "ipython",
    "version": 3
   },
   "file_extension": ".py",
   "mimetype": "text/x-python",
   "name": "python",
   "nbconvert_exporter": "python",
   "pygments_lexer": "ipython3",
   "version": "3.9.6"
  }
 },
 "nbformat": 4,
 "nbformat_minor": 5
}
